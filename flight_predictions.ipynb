{
 "cells": [
  {
   "cell_type": "code",
   "execution_count": 73,
   "metadata": {},
   "outputs": [],
   "source": [
    "# Step 0. Import libraries, custom modules and logging\n",
    "import kagglehub\n",
    "# Basics ---------------------------------------------------------------\n",
    "import logging\n",
    "import joblib\n",
    "# Data -----------------------------------------------------------------\n",
    "import pandas as pd\n",
    "import numpy as np\n",
    "# Graphics -------------------------------------------------------------\n",
    "import matplotlib.pyplot as plt\n",
    "import seaborn as sns\n",
    "# Machine learning -----------------------------------------------------\n",
    "from sklearn.model_selection import train_test_split\n",
    "from sklearn.linear_model import LinearRegression\n",
    "from sklearn.pipeline import Pipeline\n",
    "from sklearn.compose import ColumnTransformer\n",
    "from sklearn.metrics import (mean_squared_error, \n",
    "                             mean_absolute_error,\n",
    "                             r2_score)\n",
    "from sklearn.inspection import permutation_importance\n",
    "# Logging initialization -----------------------------------------------\n",
    "logger = logging.getLogger()\n",
    "logger.setLevel(logging.INFO)\n"
   ]
  },
  {
   "cell_type": "code",
   "execution_count": 74,
   "metadata": {},
   "outputs": [],
   "source": [
    "# 1. Create dataframe \n",
    "path = kagglehub.dataset_download(\"shubhambathwal/flight-price-prediction\")\n",
    "df_raw = pd.read_csv('/home/codespace/.cache/kagglehub/datasets/shubhambathwal/flight-price-prediction/versions/2/Clean_Dataset.csv')\n",
    "\n"
   ]
  },
  {
   "cell_type": "code",
   "execution_count": 75,
   "metadata": {},
   "outputs": [
    {
     "name": "stdout",
     "output_type": "stream",
     "text": [
      "<class 'pandas.core.frame.DataFrame'>\n",
      "RangeIndex: 300153 entries, 0 to 300152\n",
      "Data columns (total 12 columns):\n",
      " #   Column            Non-Null Count   Dtype  \n",
      "---  ------            --------------   -----  \n",
      " 0   Unnamed: 0        300153 non-null  int64  \n",
      " 1   airline           300153 non-null  object \n",
      " 2   flight            300153 non-null  object \n",
      " 3   source_city       300153 non-null  object \n",
      " 4   departure_time    300153 non-null  object \n",
      " 5   stops             300153 non-null  object \n",
      " 6   arrival_time      300153 non-null  object \n",
      " 7   destination_city  300153 non-null  object \n",
      " 8   class             300153 non-null  object \n",
      " 9   duration          300153 non-null  float64\n",
      " 10  days_left         300153 non-null  int64  \n",
      " 11  price             300153 non-null  int64  \n",
      "dtypes: float64(1), int64(3), object(8)\n",
      "memory usage: 27.5+ MB\n"
     ]
    }
   ],
   "source": [
    "# 1.1 Read from source and get basic info\n",
    "df_raw.info(5)\n"
   ]
  },
  {
   "cell_type": "code",
   "execution_count": 76,
   "metadata": {},
   "outputs": [
    {
     "data": {
      "text/html": [
       "<div>\n",
       "<style scoped>\n",
       "    .dataframe tbody tr th:only-of-type {\n",
       "        vertical-align: middle;\n",
       "    }\n",
       "\n",
       "    .dataframe tbody tr th {\n",
       "        vertical-align: top;\n",
       "    }\n",
       "\n",
       "    .dataframe thead th {\n",
       "        text-align: right;\n",
       "    }\n",
       "</style>\n",
       "<table border=\"1\" class=\"dataframe\">\n",
       "  <thead>\n",
       "    <tr style=\"text-align: right;\">\n",
       "      <th></th>\n",
       "      <th>Unnamed: 0</th>\n",
       "      <th>airline</th>\n",
       "      <th>flight</th>\n",
       "      <th>source_city</th>\n",
       "      <th>departure_time</th>\n",
       "      <th>stops</th>\n",
       "      <th>arrival_time</th>\n",
       "      <th>destination_city</th>\n",
       "      <th>class</th>\n",
       "      <th>duration</th>\n",
       "      <th>days_left</th>\n",
       "      <th>price</th>\n",
       "    </tr>\n",
       "  </thead>\n",
       "  <tbody>\n",
       "    <tr>\n",
       "      <th>77471</th>\n",
       "      <td>77471</td>\n",
       "      <td>Air_India</td>\n",
       "      <td>AI-867</td>\n",
       "      <td>Mumbai</td>\n",
       "      <td>Night</td>\n",
       "      <td>one</td>\n",
       "      <td>Night</td>\n",
       "      <td>Chennai</td>\n",
       "      <td>Economy</td>\n",
       "      <td>25.67</td>\n",
       "      <td>2</td>\n",
       "      <td>18753</td>\n",
       "    </tr>\n",
       "    <tr>\n",
       "      <th>261683</th>\n",
       "      <td>261683</td>\n",
       "      <td>Air_India</td>\n",
       "      <td>AI-729</td>\n",
       "      <td>Kolkata</td>\n",
       "      <td>Morning</td>\n",
       "      <td>one</td>\n",
       "      <td>Evening</td>\n",
       "      <td>Delhi</td>\n",
       "      <td>Business</td>\n",
       "      <td>8.83</td>\n",
       "      <td>9</td>\n",
       "      <td>42746</td>\n",
       "    </tr>\n",
       "    <tr>\n",
       "      <th>160009</th>\n",
       "      <td>160009</td>\n",
       "      <td>Vistara</td>\n",
       "      <td>UK-880</td>\n",
       "      <td>Hyderabad</td>\n",
       "      <td>Afternoon</td>\n",
       "      <td>one</td>\n",
       "      <td>Evening</td>\n",
       "      <td>Mumbai</td>\n",
       "      <td>Economy</td>\n",
       "      <td>5.67</td>\n",
       "      <td>13</td>\n",
       "      <td>10248</td>\n",
       "    </tr>\n",
       "    <tr>\n",
       "      <th>253223</th>\n",
       "      <td>253223</td>\n",
       "      <td>Air_India</td>\n",
       "      <td>AI-501</td>\n",
       "      <td>Bangalore</td>\n",
       "      <td>Afternoon</td>\n",
       "      <td>one</td>\n",
       "      <td>Evening</td>\n",
       "      <td>Kolkata</td>\n",
       "      <td>Business</td>\n",
       "      <td>5.83</td>\n",
       "      <td>8</td>\n",
       "      <td>60508</td>\n",
       "    </tr>\n",
       "    <tr>\n",
       "      <th>248270</th>\n",
       "      <td>248270</td>\n",
       "      <td>Air_India</td>\n",
       "      <td>AI-776</td>\n",
       "      <td>Bangalore</td>\n",
       "      <td>Early_Morning</td>\n",
       "      <td>one</td>\n",
       "      <td>Night</td>\n",
       "      <td>Delhi</td>\n",
       "      <td>Business</td>\n",
       "      <td>18.00</td>\n",
       "      <td>45</td>\n",
       "      <td>39847</td>\n",
       "    </tr>\n",
       "  </tbody>\n",
       "</table>\n",
       "</div>"
      ],
      "text/plain": [
       "        Unnamed: 0    airline  flight source_city departure_time stops  \\\n",
       "77471        77471  Air_India  AI-867      Mumbai          Night   one   \n",
       "261683      261683  Air_India  AI-729     Kolkata        Morning   one   \n",
       "160009      160009    Vistara  UK-880   Hyderabad      Afternoon   one   \n",
       "253223      253223  Air_India  AI-501   Bangalore      Afternoon   one   \n",
       "248270      248270  Air_India  AI-776   Bangalore  Early_Morning   one   \n",
       "\n",
       "       arrival_time destination_city     class  duration  days_left  price  \n",
       "77471         Night          Chennai   Economy     25.67          2  18753  \n",
       "261683      Evening            Delhi  Business      8.83          9  42746  \n",
       "160009      Evening           Mumbai   Economy      5.67         13  10248  \n",
       "253223      Evening          Kolkata  Business      5.83          8  60508  \n",
       "248270        Night            Delhi  Business     18.00         45  39847  "
      ]
     },
     "execution_count": 76,
     "metadata": {},
     "output_type": "execute_result"
    }
   ],
   "source": [
    "# 1.2 Get a sample\n",
    "df_raw.sample(5)\n"
   ]
  },
  {
   "cell_type": "code",
   "execution_count": null,
   "metadata": {},
   "outputs": [
    {
     "name": "stderr",
     "output_type": "stream",
     "text": [
      "/workspaces/Proyecto_final/.venv/lib/python3.12/site-packages/pandas/core/dtypes/astype.py:133: RuntimeWarning: overflow encountered in cast\n",
      "  return arr.astype(dtype, copy=True)\n"
     ]
    }
   ],
   "source": [
    "# Step 2. Prepare the dataset for analysis\n",
    "df_interim = (\n",
    "    df_raw\n",
    "    .copy()\n",
    "    .set_axis(\n",
    "        df_raw.columns.str.replace(' ', '_') # reemplazar espacio por _\n",
    "        .str.replace(r'\\W','',regex=True) # reemplazar caracteres no alfabéticos por nada\n",
    "        .str.lower() # el resultado lo pasamos a minúsculas\n",
    "        .str.slice(0,40), axis=1, # slice sirve para cortar el texto a un máximo de 40 caracteres\n",
    "\n",
    "    )\n",
    ".rename(columns={'price':'target'})\n",
    "    .astype({'target': np.float16})\n",
    "    .iloc[:,1:]\n",
    "\n",
    "\n",
    ")\n",
    "\n"
   ]
  },
  {
   "cell_type": "code",
   "execution_count": 95,
   "metadata": {},
   "outputs": [
    {
     "data": {
      "text/plain": [
       "np.int64(0)"
      ]
     },
     "execution_count": 95,
     "metadata": {},
     "output_type": "execute_result"
    }
   ],
   "source": [
    "np.isinf(df_interim['target']).sum()"
   ]
  },
  {
   "cell_type": "code",
   "execution_count": 96,
   "metadata": {},
   "outputs": [
    {
     "name": "stdout",
     "output_type": "stream",
     "text": [
      "<class 'pandas.core.frame.DataFrame'>\n",
      "Index: 287770 entries, 0 to 300146\n",
      "Data columns (total 11 columns):\n",
      " #   Column            Non-Null Count   Dtype  \n",
      "---  ------            --------------   -----  \n",
      " 0   target            287770 non-null  float16\n",
      " 1   airline           287770 non-null  object \n",
      " 2   flight            287770 non-null  object \n",
      " 3   source_city       287770 non-null  object \n",
      " 4   departure_time    287770 non-null  object \n",
      " 5   stops             287770 non-null  object \n",
      " 6   arrival_time      287770 non-null  object \n",
      " 7   destination_city  287770 non-null  object \n",
      " 8   class             287770 non-null  object \n",
      " 9   duration          287770 non-null  float64\n",
      " 10  days_left         287770 non-null  int64  \n",
      "dtypes: float16(1), float64(1), int64(1), object(8)\n",
      "memory usage: 24.7+ MB\n"
     ]
    }
   ],
   "source": [
    "# 2.2 Create the final dataset with the target in front, show result\n",
    "df = (\n",
    "    df_interim\n",
    "    .copy()\n",
    "    .reindex(\n",
    "        columns=(\n",
    "            ['target'] + \n",
    "            [c for c in df_interim.columns.to_list() if c not in ['target']]\n",
    "        )\n",
    "    )\n",
    ")\n",
    "df.info()"
   ]
  },
  {
   "cell_type": "code",
   "execution_count": 97,
   "metadata": {},
   "outputs": [
    {
     "name": "stdout",
     "output_type": "stream",
     "text": [
      "<class 'pandas.core.frame.DataFrame'>\n",
      "Index: 230216 entries, 7626 to 198242\n",
      "Data columns (total 11 columns):\n",
      " #   Column            Non-Null Count   Dtype  \n",
      "---  ------            --------------   -----  \n",
      " 0   target            230216 non-null  float16\n",
      " 1   airline           230216 non-null  object \n",
      " 2   flight            230216 non-null  object \n",
      " 3   source_city       230216 non-null  object \n",
      " 4   departure_time    230216 non-null  object \n",
      " 5   stops             230216 non-null  object \n",
      " 6   arrival_time      230216 non-null  object \n",
      " 7   destination_city  230216 non-null  object \n",
      " 8   class             230216 non-null  object \n",
      " 9   duration          230216 non-null  float64\n",
      " 10  days_left         230216 non-null  int64  \n",
      "dtypes: float16(1), float64(1), int64(1), object(8)\n",
      "memory usage: 19.8+ MB\n"
     ]
    }
   ],
   "source": [
    "# Step 3. Perform EDA\n",
    "# 3.1 Split the dataset\n",
    "df_train, df_test = train_test_split(df, \n",
    "                                     random_state=2024, \n",
    "                                     test_size=0.2)\n",
    "df_train = df_train.reset_index(drop=True).sort_values(by='target')\n",
    "df_train.info()"
   ]
  },
  {
   "cell_type": "code",
   "execution_count": 98,
   "metadata": {},
   "outputs": [
    {
     "data": {
      "text/html": [
       "<div>\n",
       "<style scoped>\n",
       "    .dataframe tbody tr th:only-of-type {\n",
       "        vertical-align: middle;\n",
       "    }\n",
       "\n",
       "    .dataframe tbody tr th {\n",
       "        vertical-align: top;\n",
       "    }\n",
       "\n",
       "    .dataframe thead th {\n",
       "        text-align: right;\n",
       "    }\n",
       "</style>\n",
       "<table border=\"1\" class=\"dataframe\">\n",
       "  <thead>\n",
       "    <tr style=\"text-align: right;\">\n",
       "      <th></th>\n",
       "      <th>count</th>\n",
       "      <th>unique</th>\n",
       "      <th>top</th>\n",
       "      <th>freq</th>\n",
       "    </tr>\n",
       "  </thead>\n",
       "  <tbody>\n",
       "    <tr>\n",
       "      <th>airline</th>\n",
       "      <td>230216</td>\n",
       "      <td>6</td>\n",
       "      <td>Vistara</td>\n",
       "      <td>92566</td>\n",
       "    </tr>\n",
       "    <tr>\n",
       "      <th>flight</th>\n",
       "      <td>230216</td>\n",
       "      <td>1558</td>\n",
       "      <td>UK-706</td>\n",
       "      <td>2255</td>\n",
       "    </tr>\n",
       "    <tr>\n",
       "      <th>source_city</th>\n",
       "      <td>230216</td>\n",
       "      <td>6</td>\n",
       "      <td>Delhi</td>\n",
       "      <td>47443</td>\n",
       "    </tr>\n",
       "    <tr>\n",
       "      <th>departure_time</th>\n",
       "      <td>230216</td>\n",
       "      <td>6</td>\n",
       "      <td>Morning</td>\n",
       "      <td>53949</td>\n",
       "    </tr>\n",
       "    <tr>\n",
       "      <th>stops</th>\n",
       "      <td>230216</td>\n",
       "      <td>3</td>\n",
       "      <td>one</td>\n",
       "      <td>191301</td>\n",
       "    </tr>\n",
       "    <tr>\n",
       "      <th>arrival_time</th>\n",
       "      <td>230216</td>\n",
       "      <td>6</td>\n",
       "      <td>Night</td>\n",
       "      <td>69637</td>\n",
       "    </tr>\n",
       "    <tr>\n",
       "      <th>destination_city</th>\n",
       "      <td>230216</td>\n",
       "      <td>6</td>\n",
       "      <td>Delhi</td>\n",
       "      <td>44695</td>\n",
       "    </tr>\n",
       "    <tr>\n",
       "      <th>class</th>\n",
       "      <td>230216</td>\n",
       "      <td>2</td>\n",
       "      <td>Economy</td>\n",
       "      <td>165413</td>\n",
       "    </tr>\n",
       "  </tbody>\n",
       "</table>\n",
       "</div>"
      ],
      "text/plain": [
       "                   count unique      top    freq\n",
       "airline           230216      6  Vistara   92566\n",
       "flight            230216   1558   UK-706    2255\n",
       "source_city       230216      6    Delhi   47443\n",
       "departure_time    230216      6  Morning   53949\n",
       "stops             230216      3      one  191301\n",
       "arrival_time      230216      6    Night   69637\n",
       "destination_city  230216      6    Delhi   44695\n",
       "class             230216      2  Economy  165413"
      ]
     },
     "metadata": {},
     "output_type": "display_data"
    },
    {
     "name": "stderr",
     "output_type": "stream",
     "text": [
      "/workspaces/Proyecto_final/.venv/lib/python3.12/site-packages/pandas/core/nanops.py:1487: RuntimeWarning: overflow encountered in cast\n",
      "  return dtype.type(n)\n",
      "/workspaces/Proyecto_final/.venv/lib/python3.12/site-packages/numpy/_core/_methods.py:53: RuntimeWarning: overflow encountered in reduce\n",
      "  return umr_sum(a, axis, dtype, out, keepdims, initial, where)\n",
      "/workspaces/Proyecto_final/.venv/lib/python3.12/site-packages/pandas/core/nanops.py:731: RuntimeWarning: invalid value encountered in scalar divide\n",
      "  the_mean = the_sum / count if count > 0 else np.nan\n"
     ]
    },
    {
     "data": {
      "text/html": [
       "<div>\n",
       "<style scoped>\n",
       "    .dataframe tbody tr th:only-of-type {\n",
       "        vertical-align: middle;\n",
       "    }\n",
       "\n",
       "    .dataframe tbody tr th {\n",
       "        vertical-align: top;\n",
       "    }\n",
       "\n",
       "    .dataframe thead th {\n",
       "        text-align: right;\n",
       "    }\n",
       "</style>\n",
       "<table border=\"1\" class=\"dataframe\">\n",
       "  <thead>\n",
       "    <tr style=\"text-align: right;\">\n",
       "      <th></th>\n",
       "      <th>count</th>\n",
       "      <th>mean</th>\n",
       "      <th>std</th>\n",
       "      <th>min</th>\n",
       "      <th>25%</th>\n",
       "      <th>50%</th>\n",
       "      <th>75%</th>\n",
       "      <th>max</th>\n",
       "    </tr>\n",
       "  </thead>\n",
       "  <tbody>\n",
       "    <tr>\n",
       "      <th>target</th>\n",
       "      <td>230216.0</td>\n",
       "      <td>NaN</td>\n",
       "      <td>0.000000</td>\n",
       "      <td>1105.00</td>\n",
       "      <td>4672.00</td>\n",
       "      <td>7052.00</td>\n",
       "      <td>35520.00</td>\n",
       "      <td>65504.00</td>\n",
       "    </tr>\n",
       "    <tr>\n",
       "      <th>duration</th>\n",
       "      <td>230216.0</td>\n",
       "      <td>12.152071</td>\n",
       "      <td>7.252112</td>\n",
       "      <td>0.83</td>\n",
       "      <td>6.67</td>\n",
       "      <td>11.17</td>\n",
       "      <td>16.17</td>\n",
       "      <td>49.83</td>\n",
       "    </tr>\n",
       "    <tr>\n",
       "      <th>days_left</th>\n",
       "      <td>230216.0</td>\n",
       "      <td>26.147344</td>\n",
       "      <td>13.507089</td>\n",
       "      <td>1.00</td>\n",
       "      <td>15.00</td>\n",
       "      <td>26.00</td>\n",
       "      <td>38.00</td>\n",
       "      <td>49.00</td>\n",
       "    </tr>\n",
       "  </tbody>\n",
       "</table>\n",
       "</div>"
      ],
      "text/plain": [
       "              count       mean        std      min      25%      50%  \\\n",
       "target     230216.0        NaN   0.000000  1105.00  4672.00  7052.00   \n",
       "duration   230216.0  12.152071   7.252112     0.83     6.67    11.17   \n",
       "days_left  230216.0  26.147344  13.507089     1.00    15.00    26.00   \n",
       "\n",
       "                75%       max  \n",
       "target     35520.00  65504.00  \n",
       "duration      16.17     49.83  \n",
       "days_left     38.00     49.00  "
      ]
     },
     "metadata": {},
     "output_type": "display_data"
    }
   ],
   "source": [
    "display(df_train.describe(include=object).T)\n",
    "display(df_train.describe().T)"
   ]
  },
  {
   "cell_type": "code",
   "execution_count": 82,
   "metadata": {},
   "outputs": [
    {
     "data": {
      "image/png": "[encoded data removed]",
      "text/plain": [
       "<Figure size 640x480 with 4 Axes>"
      ]
     },
     "metadata": {},
     "output_type": "display_data"
    }
   ],
   "source": [
    "df_train.hist()\n",
    "plt.show()"
   ]
  }
 ],
 "metadata": {
  "kernelspec": {
   "display_name": ".venv",
   "language": "python",
   "name": "python3"
  },
  "language_info": {
   "codemirror_mode": {
    "name": "ipython",
    "version": 3
   },
   "file_extension": ".py",
   "mimetype": "text/x-python",
   "name": "python",
   "nbconvert_exporter": "python",
   "pygments_lexer": "ipython3",
   "version": "3.12.1"
  }
 },
 "nbformat": 4,
 "nbformat_minor": 2
}
