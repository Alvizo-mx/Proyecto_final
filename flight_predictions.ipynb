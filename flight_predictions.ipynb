{
 "cells": [
  {
   "cell_type": "code",
   "execution_count": 2,
   "metadata": {},
   "outputs": [
    {
     "name": "stderr",
     "output_type": "stream",
     "text": [
      "/workspaces/Proyecto_final/.venv/lib/python3.12/site-packages/tqdm/auto.py:21: TqdmWarning: IProgress not found. Please update jupyter and ipywidgets. See https://ipywidgets.readthedocs.io/en/stable/user_install.html\n",
      "  from .autonotebook import tqdm as notebook_tqdm\n"
     ]
    }
   ],
   "source": [
    "# 0. Import libraries \n",
    "import kagglehub\n",
    "import pandas as pd \n"
   ]
  },
  {
   "cell_type": "code",
   "execution_count": 3,
   "metadata": {},
   "outputs": [],
   "source": [
    "# 1. Create dataframe \n",
    "path = kagglehub.dataset_download(\"shubhambathwal/flight-price-prediction\")\n",
    "clean_df_raw = pd.read_csv('/home/codespace/.cache/kagglehub/datasets/shubhambathwal/flight-price-prediction/versions/2/Clean_Dataset.csv')\n",
    "business_df_raw = pd.read_csv('/home/codespace/.cache/kagglehub/datasets/shubhambathwal/flight-price-prediction/versions/2/business.csv')\n",
    "economy_df_raw = pd.read_csv('/home/codespace/.cache/kagglehub/datasets/shubhambathwal/flight-price-prediction/versions/2/economy.csv')"
   ]
  },
  {
   "cell_type": "code",
   "execution_count": 4,
   "metadata": {},
   "outputs": [
    {
     "data": {
      "text/html": [
       "<div>\n",
       "<style scoped>\n",
       "    .dataframe tbody tr th:only-of-type {\n",
       "        vertical-align: middle;\n",
       "    }\n",
       "\n",
       "    .dataframe tbody tr th {\n",
       "        vertical-align: top;\n",
       "    }\n",
       "\n",
       "    .dataframe thead th {\n",
       "        text-align: right;\n",
       "    }\n",
       "</style>\n",
       "<table border=\"1\" class=\"dataframe\">\n",
       "  <thead>\n",
       "    <tr style=\"text-align: right;\">\n",
       "      <th></th>\n",
       "      <th>Unnamed: 0</th>\n",
       "      <th>airline</th>\n",
       "      <th>flight</th>\n",
       "      <th>source_city</th>\n",
       "      <th>departure_time</th>\n",
       "      <th>stops</th>\n",
       "      <th>arrival_time</th>\n",
       "      <th>destination_city</th>\n",
       "      <th>class</th>\n",
       "      <th>duration</th>\n",
       "      <th>days_left</th>\n",
       "      <th>price</th>\n",
       "    </tr>\n",
       "  </thead>\n",
       "  <tbody>\n",
       "    <tr>\n",
       "      <th>0</th>\n",
       "      <td>0</td>\n",
       "      <td>SpiceJet</td>\n",
       "      <td>SG-8709</td>\n",
       "      <td>Delhi</td>\n",
       "      <td>Evening</td>\n",
       "      <td>zero</td>\n",
       "      <td>Night</td>\n",
       "      <td>Mumbai</td>\n",
       "      <td>Economy</td>\n",
       "      <td>2.17</td>\n",
       "      <td>1</td>\n",
       "      <td>5953</td>\n",
       "    </tr>\n",
       "    <tr>\n",
       "      <th>1</th>\n",
       "      <td>1</td>\n",
       "      <td>SpiceJet</td>\n",
       "      <td>SG-8157</td>\n",
       "      <td>Delhi</td>\n",
       "      <td>Early_Morning</td>\n",
       "      <td>zero</td>\n",
       "      <td>Morning</td>\n",
       "      <td>Mumbai</td>\n",
       "      <td>Economy</td>\n",
       "      <td>2.33</td>\n",
       "      <td>1</td>\n",
       "      <td>5953</td>\n",
       "    </tr>\n",
       "    <tr>\n",
       "      <th>2</th>\n",
       "      <td>2</td>\n",
       "      <td>AirAsia</td>\n",
       "      <td>I5-764</td>\n",
       "      <td>Delhi</td>\n",
       "      <td>Early_Morning</td>\n",
       "      <td>zero</td>\n",
       "      <td>Early_Morning</td>\n",
       "      <td>Mumbai</td>\n",
       "      <td>Economy</td>\n",
       "      <td>2.17</td>\n",
       "      <td>1</td>\n",
       "      <td>5956</td>\n",
       "    </tr>\n",
       "    <tr>\n",
       "      <th>3</th>\n",
       "      <td>3</td>\n",
       "      <td>Vistara</td>\n",
       "      <td>UK-995</td>\n",
       "      <td>Delhi</td>\n",
       "      <td>Morning</td>\n",
       "      <td>zero</td>\n",
       "      <td>Afternoon</td>\n",
       "      <td>Mumbai</td>\n",
       "      <td>Economy</td>\n",
       "      <td>2.25</td>\n",
       "      <td>1</td>\n",
       "      <td>5955</td>\n",
       "    </tr>\n",
       "    <tr>\n",
       "      <th>4</th>\n",
       "      <td>4</td>\n",
       "      <td>Vistara</td>\n",
       "      <td>UK-963</td>\n",
       "      <td>Delhi</td>\n",
       "      <td>Morning</td>\n",
       "      <td>zero</td>\n",
       "      <td>Morning</td>\n",
       "      <td>Mumbai</td>\n",
       "      <td>Economy</td>\n",
       "      <td>2.33</td>\n",
       "      <td>1</td>\n",
       "      <td>5955</td>\n",
       "    </tr>\n",
       "  </tbody>\n",
       "</table>\n",
       "</div>"
      ],
      "text/plain": [
       "   Unnamed: 0   airline   flight source_city departure_time stops  \\\n",
       "0           0  SpiceJet  SG-8709       Delhi        Evening  zero   \n",
       "1           1  SpiceJet  SG-8157       Delhi  Early_Morning  zero   \n",
       "2           2   AirAsia   I5-764       Delhi  Early_Morning  zero   \n",
       "3           3   Vistara   UK-995       Delhi        Morning  zero   \n",
       "4           4   Vistara   UK-963       Delhi        Morning  zero   \n",
       "\n",
       "    arrival_time destination_city    class  duration  days_left  price  \n",
       "0          Night           Mumbai  Economy      2.17          1   5953  \n",
       "1        Morning           Mumbai  Economy      2.33          1   5953  \n",
       "2  Early_Morning           Mumbai  Economy      2.17          1   5956  \n",
       "3      Afternoon           Mumbai  Economy      2.25          1   5955  \n",
       "4        Morning           Mumbai  Economy      2.33          1   5955  "
      ]
     },
     "execution_count": 4,
     "metadata": {},
     "output_type": "execute_result"
    }
   ],
   "source": [
    "clean_df_raw.head(5)\n"
   ]
  },
  {
   "cell_type": "code",
   "execution_count": 5,
   "metadata": {},
   "outputs": [
    {
     "name": "stdout",
     "output_type": "stream",
     "text": [
      "<class 'pandas.core.frame.DataFrame'>\n",
      "RangeIndex: 93487 entries, 0 to 93486\n",
      "Data columns (total 11 columns):\n",
      " #   Column      Non-Null Count  Dtype \n",
      "---  ------      --------------  ----- \n",
      " 0   date        93487 non-null  object\n",
      " 1   airline     93487 non-null  object\n",
      " 2   ch_code     93487 non-null  object\n",
      " 3   num_code    93487 non-null  int64 \n",
      " 4   dep_time    93487 non-null  object\n",
      " 5   from        93487 non-null  object\n",
      " 6   time_taken  93487 non-null  object\n",
      " 7   stop        93487 non-null  object\n",
      " 8   arr_time    93487 non-null  object\n",
      " 9   to          93487 non-null  object\n",
      " 10  price       93487 non-null  object\n",
      "dtypes: int64(1), object(10)\n",
      "memory usage: 7.8+ MB\n"
     ]
    }
   ],
   "source": [
    "business_df_raw.info()"
   ]
  },
  {
   "cell_type": "code",
   "execution_count": 6,
   "metadata": {},
   "outputs": [
    {
     "name": "stdout",
     "output_type": "stream",
     "text": [
      "<class 'pandas.core.frame.DataFrame'>\n",
      "RangeIndex: 206774 entries, 0 to 206773\n",
      "Data columns (total 11 columns):\n",
      " #   Column      Non-Null Count   Dtype \n",
      "---  ------      --------------   ----- \n",
      " 0   date        206774 non-null  object\n",
      " 1   airline     206774 non-null  object\n",
      " 2   ch_code     206774 non-null  object\n",
      " 3   num_code    206774 non-null  int64 \n",
      " 4   dep_time    206774 non-null  object\n",
      " 5   from        206774 non-null  object\n",
      " 6   time_taken  206774 non-null  object\n",
      " 7   stop        206774 non-null  object\n",
      " 8   arr_time    206774 non-null  object\n",
      " 9   to          206774 non-null  object\n",
      " 10  price       206774 non-null  object\n",
      "dtypes: int64(1), object(10)\n",
      "memory usage: 17.4+ MB\n"
     ]
    }
   ],
   "source": [
    "economy_df_raw.info()"
   ]
  },
  {
   "cell_type": "code",
   "execution_count": 7,
   "metadata": {},
   "outputs": [
    {
     "data": {
      "text/html": [
       "<div>\n",
       "<style scoped>\n",
       "    .dataframe tbody tr th:only-of-type {\n",
       "        vertical-align: middle;\n",
       "    }\n",
       "\n",
       "    .dataframe tbody tr th {\n",
       "        vertical-align: top;\n",
       "    }\n",
       "\n",
       "    .dataframe thead th {\n",
       "        text-align: right;\n",
       "    }\n",
       "</style>\n",
       "<table border=\"1\" class=\"dataframe\">\n",
       "  <thead>\n",
       "    <tr style=\"text-align: right;\">\n",
       "      <th></th>\n",
       "      <th>count</th>\n",
       "      <th>mean</th>\n",
       "      <th>std</th>\n",
       "      <th>min</th>\n",
       "      <th>25%</th>\n",
       "      <th>50%</th>\n",
       "      <th>75%</th>\n",
       "      <th>max</th>\n",
       "    </tr>\n",
       "  </thead>\n",
       "  <tbody>\n",
       "    <tr>\n",
       "      <th>Unnamed: 0</th>\n",
       "      <td>300153.0</td>\n",
       "      <td>150076.000000</td>\n",
       "      <td>86646.852011</td>\n",
       "      <td>0.00</td>\n",
       "      <td>75038.00</td>\n",
       "      <td>150076.00</td>\n",
       "      <td>225114.00</td>\n",
       "      <td>300152.00</td>\n",
       "    </tr>\n",
       "    <tr>\n",
       "      <th>duration</th>\n",
       "      <td>300153.0</td>\n",
       "      <td>12.221021</td>\n",
       "      <td>7.191997</td>\n",
       "      <td>0.83</td>\n",
       "      <td>6.83</td>\n",
       "      <td>11.25</td>\n",
       "      <td>16.17</td>\n",
       "      <td>49.83</td>\n",
       "    </tr>\n",
       "    <tr>\n",
       "      <th>days_left</th>\n",
       "      <td>300153.0</td>\n",
       "      <td>26.004751</td>\n",
       "      <td>13.561004</td>\n",
       "      <td>1.00</td>\n",
       "      <td>15.00</td>\n",
       "      <td>26.00</td>\n",
       "      <td>38.00</td>\n",
       "      <td>49.00</td>\n",
       "    </tr>\n",
       "    <tr>\n",
       "      <th>price</th>\n",
       "      <td>300153.0</td>\n",
       "      <td>20889.660523</td>\n",
       "      <td>22697.767366</td>\n",
       "      <td>1105.00</td>\n",
       "      <td>4783.00</td>\n",
       "      <td>7425.00</td>\n",
       "      <td>42521.00</td>\n",
       "      <td>123071.00</td>\n",
       "    </tr>\n",
       "  </tbody>\n",
       "</table>\n",
       "</div>"
      ],
      "text/plain": [
       "               count           mean           std      min       25%  \\\n",
       "Unnamed: 0  300153.0  150076.000000  86646.852011     0.00  75038.00   \n",
       "duration    300153.0      12.221021      7.191997     0.83      6.83   \n",
       "days_left   300153.0      26.004751     13.561004     1.00     15.00   \n",
       "price       300153.0   20889.660523  22697.767366  1105.00   4783.00   \n",
       "\n",
       "                  50%        75%        max  \n",
       "Unnamed: 0  150076.00  225114.00  300152.00  \n",
       "duration        11.25      16.17      49.83  \n",
       "days_left       26.00      38.00      49.00  \n",
       "price         7425.00   42521.00  123071.00  "
      ]
     },
     "execution_count": 7,
     "metadata": {},
     "output_type": "execute_result"
    }
   ],
   "source": [
    "clean_df_raw.describe().T"
   ]
  }
 ],
 "metadata": {
  "kernelspec": {
   "display_name": ".venv",
   "language": "python",
   "name": "python3"
  },
  "language_info": {
   "codemirror_mode": {
    "name": "ipython",
    "version": 3
   },
   "file_extension": ".py",
   "mimetype": "text/x-python",
   "name": "python",
   "nbconvert_exporter": "python",
   "pygments_lexer": "ipython3",
   "version": "3.12.1"
  }
 },
 "nbformat": 4,
 "nbformat_minor": 2
}
